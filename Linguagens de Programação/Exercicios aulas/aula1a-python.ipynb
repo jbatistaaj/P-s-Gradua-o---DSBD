{
 "cells": [
  {
   "cell_type": "markdown",
   "metadata": {},
   "source": [
    "Exercício 1\n",
    "Faça um programa que pergunta o peso (em kg) e a altura (em\n",
    "metros) do usuário. O programa deve calcular o Índice de Massa\n",
    "Corpórea (IMC) do usuário, que é dado por peso/(altura*altura) e\n",
    "exibir o valor de IMC na tela."
   ]
  },
  {
   "cell_type": "code",
   "execution_count": 24,
   "metadata": {},
   "outputs": [
    {
     "name": "stdout",
     "output_type": "stream",
     "text": [
      "O meu peso é: 69.0 kg\n",
      "A minha altura é: 1.76 cm\n",
      "O meu IMC é: 22.28\n"
     ]
    }
   ],
   "source": [
    "def calcula_imc():\n",
    "\n",
    "    peso = float(input(\"Digite o seu peso: \"))\n",
    "    altura = float(input(\"Agora digite a sua altura: \"))\n",
    "\n",
    "    imc = peso / (altura * altura)\n",
    "\n",
    "    print(\"O meu peso é:\", peso, \"kg\")\n",
    "    print(\"A minha altura é:\", altura, \"cm\")\n",
    "    print(\"O meu IMC é:\", round(imc,2))\n",
    "\n",
    "\n",
    "calcula_imc()"
   ]
  },
  {
   "cell_type": "markdown",
   "metadata": {},
   "source": [
    "Exercício 2\n",
    "Escreva um programa que solicita o raio de um círculo, e exibe o\n",
    "perímetro e a área desse círculo.\n"
   ]
  },
  {
   "cell_type": "code",
   "execution_count": 30,
   "metadata": {},
   "outputs": [
    {
     "name": "stdout",
     "output_type": "stream",
     "text": [
      "O raio do círculo é:  10.0 cm\n",
      "O perímetro do círculo é:  62.8 cm\n",
      "A área do círculo é:  314.0 cm^2\n"
     ]
    }
   ],
   "source": [
    "def calculo_circulo():\n",
    "\n",
    "    pi = 3.14\n",
    "\n",
    "    raio = float(input(\"Qual o raio do circulo? \"))\n",
    "\n",
    "    perimetro = 2 * pi * raio\n",
    "    area = pi * (raio)**2\n",
    "\n",
    "    print(\"O raio do círculo é: \", raio, \"cm\")\n",
    "    print(\"O perímetro do círculo é: \", round(perimetro,2), \"cm\")\n",
    "    print(\"A área do círculo é: \", round(area,2), \"cm^2\")\n",
    "\n",
    "\n",
    "calculo_circulo()"
   ]
  },
  {
   "cell_type": "markdown",
   "metadata": {},
   "source": [
    "Exercício 3\n",
    "Faça um programa que leia os\n",
    "coeficientes a, b e c de uma equação de\n",
    "segundo grau. O programa deve\n",
    "calcular por Bhaskara as raízes dessa\n",
    "equação. Para esse problema, assuma\n",
    "que a equação sempre vai ter raízes\n",
    "reais (o usuário não vai digitar valores a,\n",
    "b e c que levam a uma equação que não\n",
    "possui raízes). Caso a equação possua\n",
    "apenas uma raiz, como a equação x2,\n",
    "repita a raiz na resposta duas vezes.\n"
   ]
  },
  {
   "cell_type": "code",
   "execution_count": 49,
   "metadata": {},
   "outputs": [
    {
     "name": "stdout",
     "output_type": "stream",
     "text": [
      "O valor de x1 é: -1.0\n",
      "O valor de x2 é: -1.0\n"
     ]
    }
   ],
   "source": [
    "def calculo_bhaskara():\n",
    "\n",
    "    a = float(input(\"Digite o valor de a:\"))\n",
    "    b = float(input(\"Digite o valor de b:\"))\n",
    "    c = float(input(\"Digite o valor de c:\")) \n",
    "\n",
    "    delta = b**2 - (4*a*c)\n",
    "\n",
    "    x1 = (-b + delta**0.5) / (2*a)\n",
    "    x2 = (-b - delta**0.5) / (2*a)\n",
    "\n",
    "    if x1 == 0 or x2 == 0:  \n",
    "        x1 == x2\n",
    "        print(\"O valor de x1 é:\", x1)\n",
    "        print(\"O valor de x2 é:\", x2)\n",
    "    else:\n",
    "        print(\"O valor de x1 é:\", x1)\n",
    "        print(\"O valor de x2 é:\", x2)\n",
    "\n",
    "\n",
    "calculo_bhaskara()"
   ]
  },
  {
   "cell_type": "markdown",
   "metadata": {},
   "source": [
    "Exercício 4\n",
    "Dado um retângulo de lado a=7 e área 63, escreva:\n",
    "a. Uma instrução em Python que calcule o valor do lado b.\n",
    "b. Uma instrução que calcule a diagonal deste retângulo.\n",
    "c. Uma função que calcule a área e a diagonal de qualquer\n",
    "retângulo, dados os valores dos lados a e b."
   ]
  },
  {
   "cell_type": "code",
   "execution_count": 51,
   "metadata": {},
   "outputs": [
    {
     "name": "stdout",
     "output_type": "stream",
     "text": [
      "O valor do lado b é: 9.0\n"
     ]
    }
   ],
   "source": [
    "# Questão a\n",
    "\n",
    "def lado_b():\n",
    "\n",
    "    a = 7\n",
    "    area = 63\n",
    "\n",
    "    b = area/a\n",
    "\n",
    "    print(\"O valor do lado b é:\", b)\n",
    "\n",
    "lado_b()"
   ]
  },
  {
   "cell_type": "code",
   "execution_count": 57,
   "metadata": {},
   "outputs": [
    {
     "name": "stdout",
     "output_type": "stream",
     "text": [
      "O valor da diagonal do retângulo é: 11.4\n"
     ]
    }
   ],
   "source": [
    "# Questão b\n",
    "\n",
    "def diagonal_retangulo():\n",
    "\n",
    "    a = 7\n",
    "    b = 9\n",
    "\n",
    "    c = (a**2 + b**2)**0.5\n",
    "\n",
    "    print(\"O valor da diagonal do retângulo é:\", round(c,2)) \n",
    "\n",
    "diagonal_retangulo()\n"
   ]
  },
  {
   "cell_type": "code",
   "execution_count": 59,
   "metadata": {},
   "outputs": [
    {
     "name": "stdout",
     "output_type": "stream",
     "text": [
      "A área do retângulo é: 63.0\n",
      "A diagonal do retângulo é: 11.4\n"
     ]
    }
   ],
   "source": [
    "# Questão c\n",
    "\n",
    "def calculos_retangulos():\n",
    "\n",
    "    a = float(input(\"Qual o valor da base do retângulo?\"))\n",
    "    b = float(input(\"Qual o valor da altura do retângulo?\"))\n",
    "\n",
    "    area = a * b\n",
    "    diagonal = (a**2 + b**2)**0.5\n",
    "\n",
    "    print(\"A área do retângulo é:\", round(area,2))\n",
    "    print(\"A diagonal do retângulo é:\", round(diagonal,2))\n",
    "\n",
    "calculos_retangulos()"
   ]
  }
 ],
 "metadata": {
  "kernelspec": {
   "display_name": "Python 3",
   "language": "python",
   "name": "python3"
  },
  "language_info": {
   "codemirror_mode": {
    "name": "ipython",
    "version": 3
   },
   "file_extension": ".py",
   "mimetype": "text/x-python",
   "name": "python",
   "nbconvert_exporter": "python",
   "pygments_lexer": "ipython3",
   "version": "3.11.2"
  }
 },
 "nbformat": 4,
 "nbformat_minor": 2
}
