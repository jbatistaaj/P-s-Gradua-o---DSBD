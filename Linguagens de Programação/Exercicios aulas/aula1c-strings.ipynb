{
 "cells": [
  {
   "cell_type": "markdown",
   "metadata": {},
   "source": [
    "Exercicios"
   ]
  },
  {
   "cell_type": "code",
   "execution_count": 8,
   "metadata": {},
   "outputs": [],
   "source": [
    "import math"
   ]
  },
  {
   "cell_type": "markdown",
   "metadata": {},
   "source": [
    "1. Defina a variável “nome” e atribua a ela o nome de uma pessoa. Depois imprima o\n",
    "nome da pessoa no lugar de ‘fulano’ na mensagem:\n",
    "a. “Oi fulano, vamos aprender Python?”\n",
    "b. Imprima a mensagem em maiúsculo.\n"
   ]
  },
  {
   "cell_type": "code",
   "execution_count": 3,
   "metadata": {},
   "outputs": [
    {
     "name": "stdout",
     "output_type": "stream",
     "text": [
      "Oi João, vamos aprender Python?\n"
     ]
    }
   ],
   "source": [
    "# questão a\n",
    "\n",
    "nome = \"João\"\n",
    "print(f\"Oi {nome}, vamos aprender Python?\")"
   ]
  },
  {
   "cell_type": "code",
   "execution_count": 5,
   "metadata": {},
   "outputs": [
    {
     "name": "stdout",
     "output_type": "stream",
     "text": [
      "OI JOÃO, VAMOS APRENDER PYTHON?\n"
     ]
    }
   ],
   "source": [
    "# questão b\n",
    "\n",
    "texto = f\"Oi {nome}, vamos aprender Python?\"\n",
    "print(texto.upper())"
   ]
  },
  {
   "cell_type": "markdown",
   "metadata": {},
   "source": [
    "2. Imprima a citação a seguir em uma linha e seu autor na linha seguinte, deslocado três\n",
    "tabs à direita: “No Brasil, quando o feriado é religioso, até ateu comemora”, Jô Soares"
   ]
  },
  {
   "cell_type": "code",
   "execution_count": 7,
   "metadata": {},
   "outputs": [
    {
     "name": "stdout",
     "output_type": "stream",
     "text": [
      "\"No Brasil, quando o feriado é religioso, até ateu comemora\"\n",
      "\t\t\t Jô Soares\n"
     ]
    }
   ],
   "source": [
    "print('\"No Brasil, quando o feriado é religioso, até ateu comemora\"\\n\\t\\t\\t Jô Soares')"
   ]
  },
  {
   "cell_type": "markdown",
   "metadata": {},
   "source": [
    "3. Imprima a mensagem “O resultado da fórmula de Bhaskara é:” e o resultado\n",
    "a. Em seguida da mensagem\n",
    "b. Abaixo da mensagem\n",
    "c. Como uma string formatada com a, b, c, e as raízes, cada um em uma linha"
   ]
  },
  {
   "cell_type": "code",
   "execution_count": 12,
   "metadata": {},
   "outputs": [],
   "source": [
    "# Bhaskara\n",
    "\n",
    "a = 1\n",
    "b = -3\n",
    "c = 2\n",
    "\n",
    "delta = math.pow(b,2) - (4*a*c)\n",
    "\n",
    "x1 = (-b + math.sqrt(delta)) / (2*a)\n",
    "x2 = (-b - math.sqrt(delta)) / (2*a)"
   ]
  },
  {
   "cell_type": "code",
   "execution_count": 13,
   "metadata": {},
   "outputs": [
    {
     "name": "stdout",
     "output_type": "stream",
     "text": [
      "O resultado da fórmula de bhaskara é: x1 = 2.0 e x2 = 1.0\n"
     ]
    }
   ],
   "source": [
    "# Questão a\n",
    "\n",
    "print(f\"O resultado da fórmula de bhaskara é: x1 = {x1} e x2 = {x2}\")"
   ]
  },
  {
   "cell_type": "code",
   "execution_count": 17,
   "metadata": {},
   "outputs": [
    {
     "name": "stdout",
     "output_type": "stream",
     "text": [
      "O resultado da fórmula de bhaskara é: \n",
      "x1 = 2.0 e x2 = 1.0\n"
     ]
    }
   ],
   "source": [
    "# Questão b\n",
    "\n",
    "print(f\"O resultado da fórmula de bhaskara é: \\nx1 = {x1} e x2 = {x2}\")"
   ]
  },
  {
   "cell_type": "code",
   "execution_count": 22,
   "metadata": {},
   "outputs": [
    {
     "name": "stdout",
     "output_type": "stream",
     "text": [
      "Dados os valores de a, b e c a seguir: \n",
      "a= 1 \n",
      "b= -3 \n",
      "c= 2 \n",
      "Os valores de x1 e x2 são: \n",
      "x1= 2.0 \n",
      "x2= 1.0\n"
     ]
    }
   ],
   "source": [
    "# Questão c\n",
    "\n",
    "print(f\"Dados os valores de a, b e c a seguir: \\na= {a} \\nb= {b} \\nc= {c} \\nOs valores de x1 e x2 são: \\nx1= {x1} \\nx2= {x2}\")"
   ]
  }
 ],
 "metadata": {
  "kernelspec": {
   "display_name": "Python 3",
   "language": "python",
   "name": "python3"
  },
  "language_info": {
   "codemirror_mode": {
    "name": "ipython",
    "version": 3
   },
   "file_extension": ".py",
   "mimetype": "text/x-python",
   "name": "python",
   "nbconvert_exporter": "python",
   "pygments_lexer": "ipython3",
   "version": "3.11.2"
  }
 },
 "nbformat": 4,
 "nbformat_minor": 2
}
