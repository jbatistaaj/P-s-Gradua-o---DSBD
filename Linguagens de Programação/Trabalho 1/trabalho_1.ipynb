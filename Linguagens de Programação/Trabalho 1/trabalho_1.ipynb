{
 "cells": [
  {
   "cell_type": "markdown",
   "metadata": {},
   "source": [
    "O trabalho a seguir busca analisar informações sobre o rendimento de alunos de um curso na disciplina de Algorítimos 1, entre os anos de 2011 e 2022. Para isso, utilizarei majoritariamente o Python como ferramenta de análise, com as bibliotecas Pandas e Seaborn, o meu intuito aqui é entender o problema, preparar os dados, fazer uma análise exploratória, analisar e trazer os principais insights observados. "
   ]
  },
  {
   "cell_type": "code",
   "execution_count": 4,
   "metadata": {},
   "outputs": [],
   "source": [
    "#Importando as bibliotecas e pacotes \n",
    "import pandas as pd\n",
    "import seaborn as sns\n",
    "import warnings\n",
    "warnings.filterwarnings(\"ignore\")"
   ]
  },
  {
   "cell_type": "code",
   "execution_count": 5,
   "metadata": {},
   "outputs": [],
   "source": [
    "#Definindo o dataframe que será trabalhado a seguir\n",
    "df = pd.read_csv(r'C:\\Users\\joao.batista\\Desktop\\Pós Graduação - DSBD\\Linguagens de Programação\\Trabalho 1\\historico-alg1_SIGA_ANONIMIZADO.csv')"
   ]
  },
  {
   "cell_type": "code",
   "execution_count": 6,
   "metadata": {},
   "outputs": [
    {
     "data": {
      "text/html": [
       "<div>\n",
       "<style scoped>\n",
       "    .dataframe tbody tr th:only-of-type {\n",
       "        vertical-align: middle;\n",
       "    }\n",
       "\n",
       "    .dataframe tbody tr th {\n",
       "        vertical-align: top;\n",
       "    }\n",
       "\n",
       "    .dataframe thead th {\n",
       "        text-align: right;\n",
       "    }\n",
       "</style>\n",
       "<table border=\"1\" class=\"dataframe\">\n",
       "  <thead>\n",
       "    <tr style=\"text-align: right;\">\n",
       "      <th></th>\n",
       "      <th>matricula</th>\n",
       "      <th>codigo</th>\n",
       "      <th>disciplina</th>\n",
       "      <th>periodo</th>\n",
       "      <th>ano</th>\n",
       "      <th>curriculo</th>\n",
       "      <th>ch</th>\n",
       "      <th>nota</th>\n",
       "      <th>frequencia</th>\n",
       "      <th>status</th>\n",
       "      <th>tipo</th>\n",
       "      <th>observacao</th>\n",
       "      <th>natureza</th>\n",
       "      <th>situacaoDiscente</th>\n",
       "      <th>nomeTuma</th>\n",
       "      <th>codigoCurriculoSie</th>\n",
       "    </tr>\n",
       "  </thead>\n",
       "  <tbody>\n",
       "    <tr>\n",
       "      <th>0</th>\n",
       "      <td>0</td>\n",
       "      <td>CI055</td>\n",
       "      <td>ALGORITMOS E ESTRUTURAS DE DADOS I</td>\n",
       "      <td>1</td>\n",
       "      <td>2016</td>\n",
       "      <td>Sim</td>\n",
       "      <td>60</td>\n",
       "      <td>67</td>\n",
       "      <td>96</td>\n",
       "      <td>Aprovado</td>\n",
       "      <td>TURMA</td>\n",
       "      <td>C</td>\n",
       "      <td>Obrigatória</td>\n",
       "      <td>Conclusão formatura</td>\n",
       "      <td>NaN</td>\n",
       "      <td>21A</td>\n",
       "    </tr>\n",
       "    <tr>\n",
       "      <th>1</th>\n",
       "      <td>1</td>\n",
       "      <td>CI1055</td>\n",
       "      <td>ALGORITMOS E ESTRUTURAS DE DADOS 1</td>\n",
       "      <td>1</td>\n",
       "      <td>2019</td>\n",
       "      <td>Sim</td>\n",
       "      <td>60</td>\n",
       "      <td>0</td>\n",
       "      <td>73</td>\n",
       "      <td>R-freq</td>\n",
       "      <td>TURMA</td>\n",
       "      <td>NaN</td>\n",
       "      <td>Obrigatória</td>\n",
       "      <td>Registro ativo</td>\n",
       "      <td>A</td>\n",
       "      <td>21A</td>\n",
       "    </tr>\n",
       "    <tr>\n",
       "      <th>2</th>\n",
       "      <td>1</td>\n",
       "      <td>CI1055</td>\n",
       "      <td>ALGORITMOS E ESTRUTURAS DE DADOS 1</td>\n",
       "      <td>2</td>\n",
       "      <td>2019</td>\n",
       "      <td>Sim</td>\n",
       "      <td>60</td>\n",
       "      <td>11</td>\n",
       "      <td>76</td>\n",
       "      <td>R-nota</td>\n",
       "      <td>TURMA</td>\n",
       "      <td>NaN</td>\n",
       "      <td>Obrigatória</td>\n",
       "      <td>Registro ativo</td>\n",
       "      <td>B</td>\n",
       "      <td>21A</td>\n",
       "    </tr>\n",
       "    <tr>\n",
       "      <th>3</th>\n",
       "      <td>1</td>\n",
       "      <td>CI1055</td>\n",
       "      <td>ALGORITMOS E ESTRUTURAS DE DADOS 1</td>\n",
       "      <td>2</td>\n",
       "      <td>2020</td>\n",
       "      <td>Sim</td>\n",
       "      <td>60</td>\n",
       "      <td>0</td>\n",
       "      <td>0</td>\n",
       "      <td>Cancelado</td>\n",
       "      <td>TURMA</td>\n",
       "      <td>NaN</td>\n",
       "      <td>Obrigatória</td>\n",
       "      <td>Registro ativo</td>\n",
       "      <td>B</td>\n",
       "      <td>21A</td>\n",
       "    </tr>\n",
       "    <tr>\n",
       "      <th>4</th>\n",
       "      <td>1</td>\n",
       "      <td>CI1055</td>\n",
       "      <td>ALGORITMOS E ESTRUTURAS DE DADOS 1</td>\n",
       "      <td>1</td>\n",
       "      <td>2020</td>\n",
       "      <td>Sim</td>\n",
       "      <td>60</td>\n",
       "      <td>0</td>\n",
       "      <td>0</td>\n",
       "      <td>Cancelado</td>\n",
       "      <td>TURMA</td>\n",
       "      <td>NaN</td>\n",
       "      <td>Obrigatória</td>\n",
       "      <td>Registro ativo</td>\n",
       "      <td>ERE 2 - D</td>\n",
       "      <td>21A</td>\n",
       "    </tr>\n",
       "  </tbody>\n",
       "</table>\n",
       "</div>"
      ],
      "text/plain": [
       "   matricula  codigo                          disciplina periodo   ano  \\\n",
       "0          0   CI055  ALGORITMOS E ESTRUTURAS DE DADOS I       1  2016   \n",
       "1          1  CI1055  ALGORITMOS E ESTRUTURAS DE DADOS 1       1  2019   \n",
       "2          1  CI1055  ALGORITMOS E ESTRUTURAS DE DADOS 1       2  2019   \n",
       "3          1  CI1055  ALGORITMOS E ESTRUTURAS DE DADOS 1       2  2020   \n",
       "4          1  CI1055  ALGORITMOS E ESTRUTURAS DE DADOS 1       1  2020   \n",
       "\n",
       "  curriculo  ch  nota  frequencia     status   tipo observacao     natureza  \\\n",
       "0       Sim  60    67          96   Aprovado  TURMA          C  Obrigatória   \n",
       "1       Sim  60     0          73     R-freq  TURMA        NaN  Obrigatória   \n",
       "2       Sim  60    11          76     R-nota  TURMA        NaN  Obrigatória   \n",
       "3       Sim  60     0           0  Cancelado  TURMA        NaN  Obrigatória   \n",
       "4       Sim  60     0           0  Cancelado  TURMA        NaN  Obrigatória   \n",
       "\n",
       "      situacaoDiscente   nomeTuma codigoCurriculoSie  \n",
       "0  Conclusão formatura        NaN                21A  \n",
       "1       Registro ativo          A                21A  \n",
       "2       Registro ativo          B                21A  \n",
       "3       Registro ativo          B                21A  \n",
       "4       Registro ativo  ERE 2 - D                21A  "
      ]
     },
     "execution_count": 6,
     "metadata": {},
     "output_type": "execute_result"
    }
   ],
   "source": [
    "df.head()"
   ]
  },
  {
   "cell_type": "markdown",
   "metadata": {},
   "source": [
    "Extraindo as informações iniciais do dataframe e realizando os primeiros tratamentos\n"
   ]
  },
  {
   "cell_type": "code",
   "execution_count": 7,
   "metadata": {},
   "outputs": [
    {
     "data": {
      "text/plain": [
       "matricula              int64\n",
       "codigo                object\n",
       "disciplina            object\n",
       "periodo               object\n",
       "ano                    int64\n",
       "curriculo             object\n",
       "ch                     int64\n",
       "nota                   int64\n",
       "frequencia             int64\n",
       "status                object\n",
       "tipo                  object\n",
       "observacao            object\n",
       "natureza              object\n",
       "situacaoDiscente      object\n",
       "nomeTuma              object\n",
       "codigoCurriculoSie    object\n",
       "dtype: object"
      ]
     },
     "execution_count": 7,
     "metadata": {},
     "output_type": "execute_result"
    }
   ],
   "source": [
    "#Entendendo quais os tipos de dados de cada uma das colunas do dataframe\n",
    "df.dtypes"
   ]
  },
  {
   "cell_type": "code",
   "execution_count": 8,
   "metadata": {},
   "outputs": [
    {
     "data": {
      "text/html": [
       "<div>\n",
       "<style scoped>\n",
       "    .dataframe tbody tr th:only-of-type {\n",
       "        vertical-align: middle;\n",
       "    }\n",
       "\n",
       "    .dataframe tbody tr th {\n",
       "        vertical-align: top;\n",
       "    }\n",
       "\n",
       "    .dataframe thead th {\n",
       "        text-align: right;\n",
       "    }\n",
       "</style>\n",
       "<table border=\"1\" class=\"dataframe\">\n",
       "  <thead>\n",
       "    <tr style=\"text-align: right;\">\n",
       "      <th></th>\n",
       "      <th>matricula</th>\n",
       "      <th>ano</th>\n",
       "      <th>ch</th>\n",
       "      <th>nota</th>\n",
       "      <th>frequencia</th>\n",
       "    </tr>\n",
       "  </thead>\n",
       "  <tbody>\n",
       "    <tr>\n",
       "      <th>count</th>\n",
       "      <td>909.000000</td>\n",
       "      <td>909.000000</td>\n",
       "      <td>909.0</td>\n",
       "      <td>909.000000</td>\n",
       "      <td>909.000000</td>\n",
       "    </tr>\n",
       "    <tr>\n",
       "      <th>mean</th>\n",
       "      <td>287.009901</td>\n",
       "      <td>2019.002200</td>\n",
       "      <td>60.0</td>\n",
       "      <td>45.251925</td>\n",
       "      <td>70.081408</td>\n",
       "    </tr>\n",
       "    <tr>\n",
       "      <th>std</th>\n",
       "      <td>171.329142</td>\n",
       "      <td>2.160416</td>\n",
       "      <td>0.0</td>\n",
       "      <td>36.945658</td>\n",
       "      <td>42.035699</td>\n",
       "    </tr>\n",
       "    <tr>\n",
       "      <th>min</th>\n",
       "      <td>0.000000</td>\n",
       "      <td>2011.000000</td>\n",
       "      <td>60.0</td>\n",
       "      <td>0.000000</td>\n",
       "      <td>0.000000</td>\n",
       "    </tr>\n",
       "    <tr>\n",
       "      <th>25%</th>\n",
       "      <td>134.000000</td>\n",
       "      <td>2018.000000</td>\n",
       "      <td>60.0</td>\n",
       "      <td>0.000000</td>\n",
       "      <td>0.000000</td>\n",
       "    </tr>\n",
       "    <tr>\n",
       "      <th>50%</th>\n",
       "      <td>288.000000</td>\n",
       "      <td>2019.000000</td>\n",
       "      <td>60.0</td>\n",
       "      <td>53.000000</td>\n",
       "      <td>93.000000</td>\n",
       "    </tr>\n",
       "    <tr>\n",
       "      <th>75%</th>\n",
       "      <td>437.000000</td>\n",
       "      <td>2021.000000</td>\n",
       "      <td>60.0</td>\n",
       "      <td>79.000000</td>\n",
       "      <td>100.000000</td>\n",
       "    </tr>\n",
       "    <tr>\n",
       "      <th>max</th>\n",
       "      <td>572.000000</td>\n",
       "      <td>2022.000000</td>\n",
       "      <td>60.0</td>\n",
       "      <td>100.000000</td>\n",
       "      <td>100.000000</td>\n",
       "    </tr>\n",
       "  </tbody>\n",
       "</table>\n",
       "</div>"
      ],
      "text/plain": [
       "        matricula          ano     ch        nota  frequencia\n",
       "count  909.000000   909.000000  909.0  909.000000  909.000000\n",
       "mean   287.009901  2019.002200   60.0   45.251925   70.081408\n",
       "std    171.329142     2.160416    0.0   36.945658   42.035699\n",
       "min      0.000000  2011.000000   60.0    0.000000    0.000000\n",
       "25%    134.000000  2018.000000   60.0    0.000000    0.000000\n",
       "50%    288.000000  2019.000000   60.0   53.000000   93.000000\n",
       "75%    437.000000  2021.000000   60.0   79.000000  100.000000\n",
       "max    572.000000  2022.000000   60.0  100.000000  100.000000"
      ]
     },
     "execution_count": 8,
     "metadata": {},
     "output_type": "execute_result"
    }
   ],
   "source": [
    "#Utilizando a função describe para obter algumas informações iniciais a respeito do dataframe, como média de notas, contagem de matrículas etc.\n",
    "df.describe()"
   ]
  },
  {
   "cell_type": "markdown",
   "metadata": {},
   "source": [
    "Primeiro ajuste no dataframe: Padronizar os status de reprovação"
   ]
  },
  {
   "cell_type": "code",
   "execution_count": 9,
   "metadata": {},
   "outputs": [
    {
     "data": {
      "text/plain": [
       "status\n",
       "Aprovado       624\n",
       "R-nota         162\n",
       "R-freq          49\n",
       "Cancelado       37\n",
       "Matriculado     36\n",
       "Reprovado        1\n",
       "Name: count, dtype: int64"
      ]
     },
     "execution_count": 9,
     "metadata": {},
     "output_type": "execute_result"
    }
   ],
   "source": [
    "'''Atenção: R-nota indica REPROVAÇÃO POR NOTA e R-freq REPROVAÇÃO POR FALTA. Se houver outro \"status\" para representar reprovação, este dever ser trocado para o rótulo adequado (R-nota ou R-freq). \n",
    "Frequências < 75 causam reprovação por falta; Médias abaixo de 50 causam reprovação por nota.\n",
    "'''\n",
    "df['status'].value_counts()"
   ]
  },
  {
   "cell_type": "code",
   "execution_count": 10,
   "metadata": {},
   "outputs": [],
   "source": [
    "df[(df['nota'] < 75) & (df['frequencia'] < 50) & (df['status'] == 'R-freq') | (df['status'] == 'R-nota')]\n",
    "df['status'].replace(to_replace='Reprovado',value='R-freq', inplace=True)"
   ]
  },
  {
   "cell_type": "markdown",
   "metadata": {},
   "source": [
    "Segundo ajuste no dataframe: Remoção dos alunos marcados como EQUIVALÊNCIA e APROVEITAMENTO\n",
    "* Durante parte do período analisado o currículo disciplinar passou por algumas alterações, para garantir que os alunos que já haviam sido aprovados não precisassem refazer a disciplina, eles foram incluídos novamente na disciplina mas dessa vez com o status de Equivalência ou Aproveitamento, recebendo nota zero mas mesmo assim sendo aprovados. Sendo assim, iremos excluí-los do dataframe para não comprometer a análise, afinal, se trata de duplicidades. "
   ]
  },
  {
   "cell_type": "code",
   "execution_count": 11,
   "metadata": {},
   "outputs": [],
   "source": [
    "df = df[~df['tipo'].isin(['EQUIVALENCIA', 'APROVEITAMENTO'])]\n"
   ]
  },
  {
   "cell_type": "markdown",
   "metadata": {},
   "source": [
    "1. Qual é a média de nota dos aprovados (no período total e por ano)?\n",
    "\n"
   ]
  },
  {
   "cell_type": "code",
   "execution_count": 12,
   "metadata": {},
   "outputs": [
    {
     "data": {
      "text/plain": [
       "77.58"
      ]
     },
     "execution_count": 12,
     "metadata": {},
     "output_type": "execute_result"
    }
   ],
   "source": [
    "# Média de notas no período total, arredondando para 2 casas decimais. \n",
    "df_aprovados = df[df['status'] == 'Aprovado']\n",
    "df_aprovados['nota'].mean().round(2)"
   ]
  },
  {
   "cell_type": "code",
   "execution_count": 13,
   "metadata": {},
   "outputs": [
    {
     "data": {
      "text/html": [
       "<div>\n",
       "<style scoped>\n",
       "    .dataframe tbody tr th:only-of-type {\n",
       "        vertical-align: middle;\n",
       "    }\n",
       "\n",
       "    .dataframe tbody tr th {\n",
       "        vertical-align: top;\n",
       "    }\n",
       "\n",
       "    .dataframe thead th {\n",
       "        text-align: right;\n",
       "    }\n",
       "</style>\n",
       "<table border=\"1\" class=\"dataframe\">\n",
       "  <thead>\n",
       "    <tr style=\"text-align: right;\">\n",
       "      <th></th>\n",
       "      <th>ano</th>\n",
       "      <th>nota</th>\n",
       "    </tr>\n",
       "  </thead>\n",
       "  <tbody>\n",
       "    <tr>\n",
       "      <th>0</th>\n",
       "      <td>2011</td>\n",
       "      <td>50.00</td>\n",
       "    </tr>\n",
       "    <tr>\n",
       "      <th>1</th>\n",
       "      <td>2013</td>\n",
       "      <td>72.71</td>\n",
       "    </tr>\n",
       "    <tr>\n",
       "      <th>2</th>\n",
       "      <td>2014</td>\n",
       "      <td>70.67</td>\n",
       "    </tr>\n",
       "    <tr>\n",
       "      <th>3</th>\n",
       "      <td>2015</td>\n",
       "      <td>68.58</td>\n",
       "    </tr>\n",
       "    <tr>\n",
       "      <th>4</th>\n",
       "      <td>2016</td>\n",
       "      <td>72.09</td>\n",
       "    </tr>\n",
       "    <tr>\n",
       "      <th>5</th>\n",
       "      <td>2017</td>\n",
       "      <td>78.11</td>\n",
       "    </tr>\n",
       "    <tr>\n",
       "      <th>6</th>\n",
       "      <td>2018</td>\n",
       "      <td>76.41</td>\n",
       "    </tr>\n",
       "    <tr>\n",
       "      <th>7</th>\n",
       "      <td>2019</td>\n",
       "      <td>74.74</td>\n",
       "    </tr>\n",
       "    <tr>\n",
       "      <th>8</th>\n",
       "      <td>2020</td>\n",
       "      <td>84.47</td>\n",
       "    </tr>\n",
       "    <tr>\n",
       "      <th>9</th>\n",
       "      <td>2021</td>\n",
       "      <td>83.88</td>\n",
       "    </tr>\n",
       "    <tr>\n",
       "      <th>10</th>\n",
       "      <td>2022</td>\n",
       "      <td>77.82</td>\n",
       "    </tr>\n",
       "  </tbody>\n",
       "</table>\n",
       "</div>"
      ],
      "text/plain": [
       "     ano   nota\n",
       "0   2011  50.00\n",
       "1   2013  72.71\n",
       "2   2014  70.67\n",
       "3   2015  68.58\n",
       "4   2016  72.09\n",
       "5   2017  78.11\n",
       "6   2018  76.41\n",
       "7   2019  74.74\n",
       "8   2020  84.47\n",
       "9   2021  83.88\n",
       "10  2022  77.82"
      ]
     },
     "execution_count": 13,
     "metadata": {},
     "output_type": "execute_result"
    }
   ],
   "source": [
    "# Média de notas por ano\n",
    "df_aprovados = df_aprovados[['ano','nota']].groupby(['ano']).mean().round(2).reset_index()\n",
    "df_aprovados"
   ]
  },
  {
   "cell_type": "markdown",
   "metadata": {},
   "source": [
    "2. Qual é a média de nota dos reprovados por nota (período total e ano)?\n",
    "\n"
   ]
  },
  {
   "cell_type": "code",
   "execution_count": 14,
   "metadata": {},
   "outputs": [
    {
     "data": {
      "text/plain": [
       "22.04"
      ]
     },
     "execution_count": 14,
     "metadata": {},
     "output_type": "execute_result"
    }
   ],
   "source": [
    "# Média de notas dos reprovados por nota no período total\n",
    "df_reprovados_nota = df[df['status'] == 'R-nota']\n",
    "df_reprovados_nota['nota'].mean().round(2)"
   ]
  },
  {
   "cell_type": "code",
   "execution_count": 15,
   "metadata": {},
   "outputs": [
    {
     "data": {
      "text/html": [
       "<div>\n",
       "<style scoped>\n",
       "    .dataframe tbody tr th:only-of-type {\n",
       "        vertical-align: middle;\n",
       "    }\n",
       "\n",
       "    .dataframe tbody tr th {\n",
       "        vertical-align: top;\n",
       "    }\n",
       "\n",
       "    .dataframe thead th {\n",
       "        text-align: right;\n",
       "    }\n",
       "</style>\n",
       "<table border=\"1\" class=\"dataframe\">\n",
       "  <thead>\n",
       "    <tr style=\"text-align: right;\">\n",
       "      <th></th>\n",
       "      <th>ano</th>\n",
       "      <th>nota</th>\n",
       "    </tr>\n",
       "  </thead>\n",
       "  <tbody>\n",
       "    <tr>\n",
       "      <th>0</th>\n",
       "      <td>2012</td>\n",
       "      <td>24.00</td>\n",
       "    </tr>\n",
       "    <tr>\n",
       "      <th>1</th>\n",
       "      <td>2013</td>\n",
       "      <td>30.00</td>\n",
       "    </tr>\n",
       "    <tr>\n",
       "      <th>2</th>\n",
       "      <td>2014</td>\n",
       "      <td>25.00</td>\n",
       "    </tr>\n",
       "    <tr>\n",
       "      <th>3</th>\n",
       "      <td>2015</td>\n",
       "      <td>19.83</td>\n",
       "    </tr>\n",
       "    <tr>\n",
       "      <th>4</th>\n",
       "      <td>2016</td>\n",
       "      <td>15.40</td>\n",
       "    </tr>\n",
       "    <tr>\n",
       "      <th>5</th>\n",
       "      <td>2017</td>\n",
       "      <td>25.90</td>\n",
       "    </tr>\n",
       "    <tr>\n",
       "      <th>6</th>\n",
       "      <td>2018</td>\n",
       "      <td>23.14</td>\n",
       "    </tr>\n",
       "    <tr>\n",
       "      <th>7</th>\n",
       "      <td>2019</td>\n",
       "      <td>23.32</td>\n",
       "    </tr>\n",
       "    <tr>\n",
       "      <th>8</th>\n",
       "      <td>2020</td>\n",
       "      <td>25.88</td>\n",
       "    </tr>\n",
       "    <tr>\n",
       "      <th>9</th>\n",
       "      <td>2021</td>\n",
       "      <td>19.59</td>\n",
       "    </tr>\n",
       "    <tr>\n",
       "      <th>10</th>\n",
       "      <td>2022</td>\n",
       "      <td>19.78</td>\n",
       "    </tr>\n",
       "  </tbody>\n",
       "</table>\n",
       "</div>"
      ],
      "text/plain": [
       "     ano   nota\n",
       "0   2012  24.00\n",
       "1   2013  30.00\n",
       "2   2014  25.00\n",
       "3   2015  19.83\n",
       "4   2016  15.40\n",
       "5   2017  25.90\n",
       "6   2018  23.14\n",
       "7   2019  23.32\n",
       "8   2020  25.88\n",
       "9   2021  19.59\n",
       "10  2022  19.78"
      ]
     },
     "execution_count": 15,
     "metadata": {},
     "output_type": "execute_result"
    }
   ],
   "source": [
    "# Média de notas dos reprovados por nota por ano\n",
    "df_reprovados_nota = df_reprovados_nota[['ano','nota']].groupby(['ano']).mean().round(2).reset_index()\n",
    "df_reprovados_nota"
   ]
  },
  {
   "cell_type": "markdown",
   "metadata": {},
   "source": [
    "3. Qual é a frequência dos reprovados por nota (período total e por ano)?"
   ]
  },
  {
   "cell_type": "code",
   "execution_count": 16,
   "metadata": {},
   "outputs": [
    {
     "data": {
      "text/plain": [
       "21.18"
      ]
     },
     "execution_count": 16,
     "metadata": {},
     "output_type": "execute_result"
    }
   ],
   "source": [
    "# Frequência de reprovados por nota no período total, valor em porcentagem. \n",
    "(df['status'].value_counts(normalize=True)['R-nota'] * 100).round(2)"
   ]
  },
  {
   "cell_type": "code",
   "execution_count": 17,
   "metadata": {},
   "outputs": [
    {
     "data": {
      "text/html": [
       "<div>\n",
       "<style scoped>\n",
       "    .dataframe tbody tr th:only-of-type {\n",
       "        vertical-align: middle;\n",
       "    }\n",
       "\n",
       "    .dataframe tbody tr th {\n",
       "        vertical-align: top;\n",
       "    }\n",
       "\n",
       "    .dataframe thead th {\n",
       "        text-align: right;\n",
       "    }\n",
       "</style>\n",
       "<table border=\"1\" class=\"dataframe\">\n",
       "  <thead>\n",
       "    <tr style=\"text-align: right;\">\n",
       "      <th></th>\n",
       "      <th>ano</th>\n",
       "      <th>R-nota</th>\n",
       "    </tr>\n",
       "  </thead>\n",
       "  <tbody>\n",
       "    <tr>\n",
       "      <th>0</th>\n",
       "      <td>2011</td>\n",
       "      <td>NaN</td>\n",
       "    </tr>\n",
       "    <tr>\n",
       "      <th>1</th>\n",
       "      <td>2012</td>\n",
       "      <td>50.00</td>\n",
       "    </tr>\n",
       "    <tr>\n",
       "      <th>2</th>\n",
       "      <td>2013</td>\n",
       "      <td>30.00</td>\n",
       "    </tr>\n",
       "    <tr>\n",
       "      <th>3</th>\n",
       "      <td>2014</td>\n",
       "      <td>8.33</td>\n",
       "    </tr>\n",
       "    <tr>\n",
       "      <th>4</th>\n",
       "      <td>2015</td>\n",
       "      <td>18.18</td>\n",
       "    </tr>\n",
       "    <tr>\n",
       "      <th>5</th>\n",
       "      <td>2016</td>\n",
       "      <td>10.00</td>\n",
       "    </tr>\n",
       "    <tr>\n",
       "      <th>6</th>\n",
       "      <td>2017</td>\n",
       "      <td>23.60</td>\n",
       "    </tr>\n",
       "    <tr>\n",
       "      <th>7</th>\n",
       "      <td>2018</td>\n",
       "      <td>24.18</td>\n",
       "    </tr>\n",
       "    <tr>\n",
       "      <th>8</th>\n",
       "      <td>2019</td>\n",
       "      <td>23.33</td>\n",
       "    </tr>\n",
       "    <tr>\n",
       "      <th>9</th>\n",
       "      <td>2020</td>\n",
       "      <td>8.33</td>\n",
       "    </tr>\n",
       "    <tr>\n",
       "      <th>10</th>\n",
       "      <td>2021</td>\n",
       "      <td>28.26</td>\n",
       "    </tr>\n",
       "    <tr>\n",
       "      <th>11</th>\n",
       "      <td>2022</td>\n",
       "      <td>22.31</td>\n",
       "    </tr>\n",
       "  </tbody>\n",
       "</table>\n",
       "</div>"
      ],
      "text/plain": [
       "     ano  R-nota\n",
       "0   2011     NaN\n",
       "1   2012   50.00\n",
       "2   2013   30.00\n",
       "3   2014    8.33\n",
       "4   2015   18.18\n",
       "5   2016   10.00\n",
       "6   2017   23.60\n",
       "7   2018   24.18\n",
       "8   2019   23.33\n",
       "9   2020    8.33\n",
       "10  2021   28.26\n",
       "11  2022   22.31"
      ]
     },
     "execution_count": 17,
     "metadata": {},
     "output_type": "execute_result"
    }
   ],
   "source": [
    "# Frequência de reprovados por nota por ano, valores em porcentagem. \n",
    "frequencia_por_ano_rnota = df.groupby('ano')['status'].value_counts(normalize=True).unstack()['R-nota'].reset_index()\n",
    "frequencia_por_ano_rnota['R-nota'] = (frequencia_por_ano_rnota['R-nota'] * 100).round(2)\n",
    "frequencia_por_ano_rnota"
   ]
  },
  {
   "cell_type": "markdown",
   "metadata": {},
   "source": [
    "4. Qual a porcentagem de evasões (total e anual)?"
   ]
  },
  {
   "cell_type": "code",
   "execution_count": 18,
   "metadata": {},
   "outputs": [
    {
     "data": {
      "text/plain": [
       "15.29"
      ]
     },
     "execution_count": 18,
     "metadata": {},
     "output_type": "execute_result"
    }
   ],
   "source": [
    "# Porcentagem total de evasões\n",
    "(df['situacaoDiscente'].value_counts(normalize=True)['Evasão'] * 100).round(2)"
   ]
  },
  {
   "cell_type": "code",
   "execution_count": 19,
   "metadata": {},
   "outputs": [
    {
     "data": {
      "text/html": [
       "<div>\n",
       "<style scoped>\n",
       "    .dataframe tbody tr th:only-of-type {\n",
       "        vertical-align: middle;\n",
       "    }\n",
       "\n",
       "    .dataframe tbody tr th {\n",
       "        vertical-align: top;\n",
       "    }\n",
       "\n",
       "    .dataframe thead th {\n",
       "        text-align: right;\n",
       "    }\n",
       "</style>\n",
       "<table border=\"1\" class=\"dataframe\">\n",
       "  <thead>\n",
       "    <tr style=\"text-align: right;\">\n",
       "      <th></th>\n",
       "      <th>ano</th>\n",
       "      <th>Evasão</th>\n",
       "    </tr>\n",
       "  </thead>\n",
       "  <tbody>\n",
       "    <tr>\n",
       "      <th>0</th>\n",
       "      <td>2011</td>\n",
       "      <td>NaN</td>\n",
       "    </tr>\n",
       "    <tr>\n",
       "      <th>1</th>\n",
       "      <td>2012</td>\n",
       "      <td>NaN</td>\n",
       "    </tr>\n",
       "    <tr>\n",
       "      <th>2</th>\n",
       "      <td>2013</td>\n",
       "      <td>70.00</td>\n",
       "    </tr>\n",
       "    <tr>\n",
       "      <th>3</th>\n",
       "      <td>2014</td>\n",
       "      <td>25.00</td>\n",
       "    </tr>\n",
       "    <tr>\n",
       "      <th>4</th>\n",
       "      <td>2015</td>\n",
       "      <td>15.15</td>\n",
       "    </tr>\n",
       "    <tr>\n",
       "      <th>5</th>\n",
       "      <td>2016</td>\n",
       "      <td>14.00</td>\n",
       "    </tr>\n",
       "    <tr>\n",
       "      <th>6</th>\n",
       "      <td>2017</td>\n",
       "      <td>19.10</td>\n",
       "    </tr>\n",
       "    <tr>\n",
       "      <th>7</th>\n",
       "      <td>2018</td>\n",
       "      <td>24.18</td>\n",
       "    </tr>\n",
       "    <tr>\n",
       "      <th>8</th>\n",
       "      <td>2019</td>\n",
       "      <td>15.83</td>\n",
       "    </tr>\n",
       "    <tr>\n",
       "      <th>9</th>\n",
       "      <td>2020</td>\n",
       "      <td>17.71</td>\n",
       "    </tr>\n",
       "    <tr>\n",
       "      <th>10</th>\n",
       "      <td>2021</td>\n",
       "      <td>12.32</td>\n",
       "    </tr>\n",
       "    <tr>\n",
       "      <th>11</th>\n",
       "      <td>2022</td>\n",
       "      <td>2.48</td>\n",
       "    </tr>\n",
       "  </tbody>\n",
       "</table>\n",
       "</div>"
      ],
      "text/plain": [
       "     ano  Evasão\n",
       "0   2011     NaN\n",
       "1   2012     NaN\n",
       "2   2013   70.00\n",
       "3   2014   25.00\n",
       "4   2015   15.15\n",
       "5   2016   14.00\n",
       "6   2017   19.10\n",
       "7   2018   24.18\n",
       "8   2019   15.83\n",
       "9   2020   17.71\n",
       "10  2021   12.32\n",
       "11  2022    2.48"
      ]
     },
     "execution_count": 19,
     "metadata": {},
     "output_type": "execute_result"
    }
   ],
   "source": [
    "# Porcentagem de evasões por ano\n",
    "evasoes_ano = df.groupby('ano')['situacaoDiscente'].value_counts(normalize=True).unstack()['Evasão'].reset_index()\n",
    "evasoes_ano['Evasão'] = (evasoes_ano['Evasão'] * 100).round(2)\n",
    "evasoes_ano"
   ]
  },
  {
   "cell_type": "markdown",
   "metadata": {},
   "source": [
    "5. Como os anos de pandemia impactaram no rendimento dos estudantes em relação aos anos anteriores, considerando o rendimento dos aprovados, a taxa de cancelamento e as reprovações? Considere como anos de pandemia os anos de 2020 e 2021."
   ]
  },
  {
   "cell_type": "code",
   "execution_count": 20,
   "metadata": {},
   "outputs": [],
   "source": [
    "# Criando uma função que irá marcar os anos de pandemia, se o ano for 2020 e 2021 receberá valor \"sim\", do contrário, receberá \"nao\"\n",
    "def ano_de_pandemia(ano):\n",
    "    if ano == 2020 or ano == 2021:\n",
    "        return 'sim'\n",
    "    else:\n",
    "        return 'nao'"
   ]
  },
  {
   "cell_type": "code",
   "execution_count": 21,
   "metadata": {},
   "outputs": [
    {
     "data": {
      "text/html": [
       "<div>\n",
       "<style scoped>\n",
       "    .dataframe tbody tr th:only-of-type {\n",
       "        vertical-align: middle;\n",
       "    }\n",
       "\n",
       "    .dataframe tbody tr th {\n",
       "        vertical-align: top;\n",
       "    }\n",
       "\n",
       "    .dataframe thead th {\n",
       "        text-align: right;\n",
       "    }\n",
       "</style>\n",
       "<table border=\"1\" class=\"dataframe\">\n",
       "  <thead>\n",
       "    <tr style=\"text-align: right;\">\n",
       "      <th></th>\n",
       "      <th>ano</th>\n",
       "      <th>nota</th>\n",
       "      <th>ano_de_pandemia</th>\n",
       "    </tr>\n",
       "  </thead>\n",
       "  <tbody>\n",
       "    <tr>\n",
       "      <th>0</th>\n",
       "      <td>2011</td>\n",
       "      <td>50.00</td>\n",
       "      <td>nao</td>\n",
       "    </tr>\n",
       "    <tr>\n",
       "      <th>1</th>\n",
       "      <td>2013</td>\n",
       "      <td>72.71</td>\n",
       "      <td>nao</td>\n",
       "    </tr>\n",
       "    <tr>\n",
       "      <th>2</th>\n",
       "      <td>2014</td>\n",
       "      <td>70.67</td>\n",
       "      <td>nao</td>\n",
       "    </tr>\n",
       "    <tr>\n",
       "      <th>3</th>\n",
       "      <td>2015</td>\n",
       "      <td>68.58</td>\n",
       "      <td>nao</td>\n",
       "    </tr>\n",
       "    <tr>\n",
       "      <th>4</th>\n",
       "      <td>2016</td>\n",
       "      <td>72.09</td>\n",
       "      <td>nao</td>\n",
       "    </tr>\n",
       "    <tr>\n",
       "      <th>5</th>\n",
       "      <td>2017</td>\n",
       "      <td>78.11</td>\n",
       "      <td>nao</td>\n",
       "    </tr>\n",
       "    <tr>\n",
       "      <th>6</th>\n",
       "      <td>2018</td>\n",
       "      <td>76.41</td>\n",
       "      <td>nao</td>\n",
       "    </tr>\n",
       "    <tr>\n",
       "      <th>7</th>\n",
       "      <td>2019</td>\n",
       "      <td>74.74</td>\n",
       "      <td>nao</td>\n",
       "    </tr>\n",
       "    <tr>\n",
       "      <th>8</th>\n",
       "      <td>2020</td>\n",
       "      <td>84.47</td>\n",
       "      <td>sim</td>\n",
       "    </tr>\n",
       "    <tr>\n",
       "      <th>9</th>\n",
       "      <td>2021</td>\n",
       "      <td>83.88</td>\n",
       "      <td>sim</td>\n",
       "    </tr>\n",
       "    <tr>\n",
       "      <th>10</th>\n",
       "      <td>2022</td>\n",
       "      <td>77.82</td>\n",
       "      <td>nao</td>\n",
       "    </tr>\n",
       "  </tbody>\n",
       "</table>\n",
       "</div>"
      ],
      "text/plain": [
       "     ano   nota ano_de_pandemia\n",
       "0   2011  50.00             nao\n",
       "1   2013  72.71             nao\n",
       "2   2014  70.67             nao\n",
       "3   2015  68.58             nao\n",
       "4   2016  72.09             nao\n",
       "5   2017  78.11             nao\n",
       "6   2018  76.41             nao\n",
       "7   2019  74.74             nao\n",
       "8   2020  84.47             sim\n",
       "9   2021  83.88             sim\n",
       "10  2022  77.82             nao"
      ]
     },
     "execution_count": 21,
     "metadata": {},
     "output_type": "execute_result"
    }
   ],
   "source": [
    "df_aprovados['ano_de_pandemia'] = df_aprovados['ano'].apply(ano_de_pandemia)\n",
    "df_aprovados"
   ]
  },
  {
   "cell_type": "code",
   "execution_count": 22,
   "metadata": {},
   "outputs": [],
   "source": [
    "# Criando função que plota os gráficos com uma estilização padrão, mudando apenas as fontes de dados utilizadas, títulos, subtítulos e dimensões.\n",
    "def plot_grafico(df,x,y,palette,hue,title,subtitle,y_subtitle):\n",
    "    ax = sns.barplot(data=df, x=x, y=y, palette=palette, hue = hue, dodge = False)\n",
    "    ax.set(xlabel='ano',ylabel=None)\n",
    "    ax.set_title(title+\"\\n\",size=12,loc='left',weight='bold')\n",
    "    ax.text(s=subtitle,x=-0.5,y=y_subtitle,fontsize=11, ha='left',color='gray')\n",
    "    ax.legend(loc='upper left',fontsize='small')\n",
    "    ax.bar_label(ax.containers[0],fontsize=9)\n",
    "    ax.bar_label(ax.containers[1],fontsize=9)\n",
    "    ax.figure.set_size_inches(15, 6)\n",
    "\n",
    "    sns.despine()"
   ]
  },
  {
   "cell_type": "code",
   "execution_count": 23,
   "metadata": {},
   "outputs": [
    {
     "data": {
      "image/png": "[encoded data removed]",
      "text/plain": [
       "<Figure size 1500x600 with 1 Axes>"
      ]
     },
     "metadata": {},
     "output_type": "display_data"
    }
   ],
   "source": [
    "# Rendimento dos aprovados pré e pós pandemia\n",
    "plot_grafico(df_aprovados,'ano','nota','Blues','ano_de_pandemia','Médias das notas dos alunos aprovados por ano, pré e pós pandemia','Valores em percentual',90)"
   ]
  },
  {
   "cell_type": "code",
   "execution_count": 24,
   "metadata": {},
   "outputs": [
    {
     "data": {
      "text/html": [
       "<div>\n",
       "<style scoped>\n",
       "    .dataframe tbody tr th:only-of-type {\n",
       "        vertical-align: middle;\n",
       "    }\n",
       "\n",
       "    .dataframe tbody tr th {\n",
       "        vertical-align: top;\n",
       "    }\n",
       "\n",
       "    .dataframe thead th {\n",
       "        text-align: right;\n",
       "    }\n",
       "</style>\n",
       "<table border=\"1\" class=\"dataframe\">\n",
       "  <thead>\n",
       "    <tr style=\"text-align: right;\">\n",
       "      <th></th>\n",
       "      <th>ano</th>\n",
       "      <th>Cancelado</th>\n",
       "      <th>ano_de_pandemia</th>\n",
       "    </tr>\n",
       "  </thead>\n",
       "  <tbody>\n",
       "    <tr>\n",
       "      <th>0</th>\n",
       "      <td>2011</td>\n",
       "      <td>NaN</td>\n",
       "      <td>nao</td>\n",
       "    </tr>\n",
       "    <tr>\n",
       "      <th>1</th>\n",
       "      <td>2012</td>\n",
       "      <td>NaN</td>\n",
       "      <td>nao</td>\n",
       "    </tr>\n",
       "    <tr>\n",
       "      <th>2</th>\n",
       "      <td>2013</td>\n",
       "      <td>NaN</td>\n",
       "      <td>nao</td>\n",
       "    </tr>\n",
       "    <tr>\n",
       "      <th>3</th>\n",
       "      <td>2014</td>\n",
       "      <td>8.33</td>\n",
       "      <td>nao</td>\n",
       "    </tr>\n",
       "    <tr>\n",
       "      <th>4</th>\n",
       "      <td>2015</td>\n",
       "      <td>NaN</td>\n",
       "      <td>nao</td>\n",
       "    </tr>\n",
       "    <tr>\n",
       "      <th>5</th>\n",
       "      <td>2016</td>\n",
       "      <td>2.00</td>\n",
       "      <td>nao</td>\n",
       "    </tr>\n",
       "    <tr>\n",
       "      <th>6</th>\n",
       "      <td>2017</td>\n",
       "      <td>NaN</td>\n",
       "      <td>nao</td>\n",
       "    </tr>\n",
       "    <tr>\n",
       "      <th>7</th>\n",
       "      <td>2018</td>\n",
       "      <td>NaN</td>\n",
       "      <td>nao</td>\n",
       "    </tr>\n",
       "    <tr>\n",
       "      <th>8</th>\n",
       "      <td>2019</td>\n",
       "      <td>NaN</td>\n",
       "      <td>nao</td>\n",
       "    </tr>\n",
       "    <tr>\n",
       "      <th>9</th>\n",
       "      <td>2020</td>\n",
       "      <td>20.83</td>\n",
       "      <td>sim</td>\n",
       "    </tr>\n",
       "    <tr>\n",
       "      <th>10</th>\n",
       "      <td>2021</td>\n",
       "      <td>9.42</td>\n",
       "      <td>sim</td>\n",
       "    </tr>\n",
       "    <tr>\n",
       "      <th>11</th>\n",
       "      <td>2022</td>\n",
       "      <td>1.65</td>\n",
       "      <td>nao</td>\n",
       "    </tr>\n",
       "  </tbody>\n",
       "</table>\n",
       "</div>"
      ],
      "text/plain": [
       "     ano  Cancelado ano_de_pandemia\n",
       "0   2011        NaN             nao\n",
       "1   2012        NaN             nao\n",
       "2   2013        NaN             nao\n",
       "3   2014       8.33             nao\n",
       "4   2015        NaN             nao\n",
       "5   2016       2.00             nao\n",
       "6   2017        NaN             nao\n",
       "7   2018        NaN             nao\n",
       "8   2019        NaN             nao\n",
       "9   2020      20.83             sim\n",
       "10  2021       9.42             sim\n",
       "11  2022       1.65             nao"
      ]
     },
     "execution_count": 24,
     "metadata": {},
     "output_type": "execute_result"
    }
   ],
   "source": [
    "df_cancelamentos = df.groupby('ano')['status'].value_counts(normalize=True).unstack()['Cancelado'].reset_index()\n",
    "df_cancelamentos['ano_de_pandemia'] = df_cancelamentos['ano'].apply(ano_de_pandemia)\n",
    "df_cancelamentos['Cancelado'] = (df_cancelamentos['Cancelado'] * 100).round(2)\n",
    "df_cancelamentos\n"
   ]
  },
  {
   "cell_type": "code",
   "execution_count": 25,
   "metadata": {},
   "outputs": [
    {
     "data": {
      "image/png": "[encoded data removed]",
      "text/plain": [
       "<Figure size 1500x600 with 1 Axes>"
      ]
     },
     "metadata": {},
     "output_type": "display_data"
    }
   ],
   "source": [
    "# Frequência de cancelamentos pré e pós pandemia\n",
    "plot_grafico(df_cancelamentos,'ano','Cancelado','Blues','ano_de_pandemia','Frequências de cancelamentos por ano, pré e pós pandemia','Valores em percentual',22)"
   ]
  },
  {
   "cell_type": "code",
   "execution_count": 26,
   "metadata": {},
   "outputs": [],
   "source": [
    "# Criando uma função que irá marcar os reprovados, se reprovado por frequência ou reprovado por nota, receberá valor \"sim\", do contrário, receberá \"nao\"\n",
    "def reprovado(status):\n",
    "    if status == 'R-freq' or status == 'R-nota':\n",
    "        return 'sim'\n",
    "    else:\n",
    "        return 'nao'"
   ]
  },
  {
   "cell_type": "code",
   "execution_count": 27,
   "metadata": {},
   "outputs": [
    {
     "data": {
      "text/html": [
       "<div>\n",
       "<style scoped>\n",
       "    .dataframe tbody tr th:only-of-type {\n",
       "        vertical-align: middle;\n",
       "    }\n",
       "\n",
       "    .dataframe tbody tr th {\n",
       "        vertical-align: top;\n",
       "    }\n",
       "\n",
       "    .dataframe thead th {\n",
       "        text-align: right;\n",
       "    }\n",
       "</style>\n",
       "<table border=\"1\" class=\"dataframe\">\n",
       "  <thead>\n",
       "    <tr style=\"text-align: right;\">\n",
       "      <th></th>\n",
       "      <th>ano</th>\n",
       "      <th>sim</th>\n",
       "      <th>ano_de_pandemia</th>\n",
       "    </tr>\n",
       "  </thead>\n",
       "  <tbody>\n",
       "    <tr>\n",
       "      <th>0</th>\n",
       "      <td>2011</td>\n",
       "      <td>NaN</td>\n",
       "      <td>nao</td>\n",
       "    </tr>\n",
       "    <tr>\n",
       "      <th>1</th>\n",
       "      <td>2012</td>\n",
       "      <td>100.00</td>\n",
       "      <td>nao</td>\n",
       "    </tr>\n",
       "    <tr>\n",
       "      <th>2</th>\n",
       "      <td>2013</td>\n",
       "      <td>30.00</td>\n",
       "      <td>nao</td>\n",
       "    </tr>\n",
       "    <tr>\n",
       "      <th>3</th>\n",
       "      <td>2014</td>\n",
       "      <td>41.67</td>\n",
       "      <td>nao</td>\n",
       "    </tr>\n",
       "    <tr>\n",
       "      <th>4</th>\n",
       "      <td>2015</td>\n",
       "      <td>21.21</td>\n",
       "      <td>nao</td>\n",
       "    </tr>\n",
       "    <tr>\n",
       "      <th>5</th>\n",
       "      <td>2016</td>\n",
       "      <td>12.00</td>\n",
       "      <td>nao</td>\n",
       "    </tr>\n",
       "    <tr>\n",
       "      <th>6</th>\n",
       "      <td>2017</td>\n",
       "      <td>25.84</td>\n",
       "      <td>nao</td>\n",
       "    </tr>\n",
       "    <tr>\n",
       "      <th>7</th>\n",
       "      <td>2018</td>\n",
       "      <td>29.67</td>\n",
       "      <td>nao</td>\n",
       "    </tr>\n",
       "    <tr>\n",
       "      <th>8</th>\n",
       "      <td>2019</td>\n",
       "      <td>29.17</td>\n",
       "      <td>nao</td>\n",
       "    </tr>\n",
       "    <tr>\n",
       "      <th>9</th>\n",
       "      <td>2020</td>\n",
       "      <td>12.50</td>\n",
       "      <td>sim</td>\n",
       "    </tr>\n",
       "    <tr>\n",
       "      <th>10</th>\n",
       "      <td>2021</td>\n",
       "      <td>39.86</td>\n",
       "      <td>sim</td>\n",
       "    </tr>\n",
       "    <tr>\n",
       "      <th>11</th>\n",
       "      <td>2022</td>\n",
       "      <td>28.10</td>\n",
       "      <td>nao</td>\n",
       "    </tr>\n",
       "  </tbody>\n",
       "</table>\n",
       "</div>"
      ],
      "text/plain": [
       "     ano     sim ano_de_pandemia\n",
       "0   2011     NaN             nao\n",
       "1   2012  100.00             nao\n",
       "2   2013   30.00             nao\n",
       "3   2014   41.67             nao\n",
       "4   2015   21.21             nao\n",
       "5   2016   12.00             nao\n",
       "6   2017   25.84             nao\n",
       "7   2018   29.67             nao\n",
       "8   2019   29.17             nao\n",
       "9   2020   12.50             sim\n",
       "10  2021   39.86             sim\n",
       "11  2022   28.10             nao"
      ]
     },
     "execution_count": 27,
     "metadata": {},
     "output_type": "execute_result"
    }
   ],
   "source": [
    "df['reprovado'] = df['status'].apply(reprovado)\n",
    "df_reprovados = df.groupby('ano')['reprovado'].value_counts(normalize=True).unstack()['sim'].reset_index()\n",
    "df_reprovados['ano_de_pandemia'] = df_reprovados['ano'].apply(ano_de_pandemia)\n",
    "df_reprovados['sim'] = (df_reprovados['sim'] * 100).round(2)\n",
    "df_reprovados"
   ]
  },
  {
   "cell_type": "code",
   "execution_count": 28,
   "metadata": {},
   "outputs": [
    {
     "data": {
      "image/png": "[encoded data removed]",
      "text/plain": [
       "<Figure size 1500x600 with 1 Axes>"
      ]
     },
     "metadata": {},
     "output_type": "display_data"
    }
   ],
   "source": [
    "# Frequência de reprovados pré e pós pandemia\n",
    "plot_grafico(df_reprovados,'ano','sim','Blues','ano_de_pandemia','Frequências de reprovações por ano, pré e pós pandemia','Valores em percentual',107)"
   ]
  },
  {
   "cell_type": "markdown",
   "metadata": {},
   "source": [
    "Análise: \n",
    "Considerando o rendimento dos aprovados, o estudo nos mostra um aumento nas médias das notas dos alunos nos anos de pandemia (2020 e 2021) em relação aos anos anteriores. Durante o período pandêmico, as instituições de saúde orientaram que todas as pessoas ficassem em suas casas, sendo assim, uma das hipóteses que explicam o aumento das notas observado nos anos de pandemia pode ser a de que, já que estavam impedidos de realizarem atividades fora de casa, os estudantes dedicaram mais tempo aos estudos e obtiveram maior êxito na disciplina. Mesmo que tenha sido observado um aumento nas notas durante o período pandêmico, elas voltam a apresentar uma leve queda no ano pós pandemia (2022).\n",
    "\n",
    "Já quando se fala em taxa de cancelamento da disciplina, em quase todo o período as taxas são baixas ou nulas, exceto pelos valores bem expressivos nos anos de pandemia, que podem ser explicados por diversas razões. Uma das hipóteses aqui é a de que uma parcela dos estudantes não se adaptaram ao modelo de aulas remotas e cancelaram a disciplina, esperando refazê-la um dia na volta das aulas presenciais. \n",
    "\n",
    "As taxas de reprovação dos alunos na disciplina também apresentaram anormalidade no período pandêmico, iniciando o período (2020) com uma frequência de 11.3% de reprovados, abaixo da média do período total (17.8%), já o ano de 2021 apresenta um aumento histórico, atingindo os 39.8% e ficando muito acima da média do período total, voltando a cair no ano seguinte, 2022. Aparentemente não existe correlação clara entre a pandemia e as frequências de reprovação dos alunos. \n"
   ]
  },
  {
   "cell_type": "markdown",
   "metadata": {},
   "source": [
    "6. Compare a volta às aulas híbrida (2022 período 1) com os anos de pandemia e os anos anteriores.\n"
   ]
  },
  {
   "cell_type": "code",
   "execution_count": 29,
   "metadata": {},
   "outputs": [],
   "source": [
    "df_notas_periodo_1 = df[['matricula','periodo','ano','nota','status','situacaoDiscente']]\n",
    "df_notas_periodo_1 =df_notas_periodo_1.drop(df_notas_periodo_1[(df_notas_periodo_1['ano'] == 2022) & (df_notas_periodo_1['periodo'] == '2')].index)\n",
    "df_notas_periodo_1['ano'] = df_notas_periodo_1['ano'].replace(2022,'2022.1')\n",
    "df_notas_periodo_1 = df_notas_periodo_1[df_notas_periodo_1['status'] == 'Aprovado']\n",
    "\n",
    "df_notas_periodo_1 = df_notas_periodo_1[['ano','nota']].groupby(['ano']).mean().reset_index()\n",
    "df_notas_periodo_1['ano_de_pandemia'] = df_notas_periodo_1['ano'].apply(ano_de_pandemia)\n"
   ]
  },
  {
   "cell_type": "code",
   "execution_count": 30,
   "metadata": {},
   "outputs": [
    {
     "data": {
      "image/png": "[encoded data removed]",
      "text/plain": [
       "<Figure size 1500x600 with 1 Axes>"
      ]
     },
     "metadata": {},
     "output_type": "display_data"
    }
   ],
   "source": [
    "plot_grafico(df_notas_periodo_1,'ano','nota','YlOrBr','ano_de_pandemia','Comparação das notas dos alunos aprovados antes e durante as aulas híbridas (2022.1)','Valores em percentual',90)"
   ]
  },
  {
   "cell_type": "code",
   "execution_count": 31,
   "metadata": {},
   "outputs": [],
   "source": [
    "df_cancelamentos_periodo_1 = df[['matricula','periodo','ano','nota','status','situacaoDiscente']]\n",
    "df_cancelamentos_periodo_1 =df_cancelamentos_periodo_1.drop(df_cancelamentos_periodo_1[(df_cancelamentos_periodo_1['ano'] == 2022) & (df_cancelamentos_periodo_1['periodo'] == '2')].index)\n",
    "df_cancelamentos_periodo_1['ano'] = df_cancelamentos_periodo_1['ano'].replace(2022,'2022.1')\n",
    "df_cancelamentos_periodo_1 = df_cancelamentos_periodo_1.groupby('ano')['status'].value_counts(normalize=True).unstack()['Cancelado'].reset_index()\n",
    "df_cancelamentos_periodo_1['Cancelado'] = df_cancelamentos_periodo_1['Cancelado'] * 100\n",
    "df_cancelamentos_periodo_1['ano_de_pandemia'] = df_cancelamentos_periodo_1['ano'].apply(ano_de_pandemia)"
   ]
  },
  {
   "cell_type": "code",
   "execution_count": 32,
   "metadata": {},
   "outputs": [
    {
     "data": {
      "image/png": "[encoded data removed]",
      "text/plain": [
       "<Figure size 1500x600 with 1 Axes>"
      ]
     },
     "metadata": {},
     "output_type": "display_data"
    }
   ],
   "source": [
    "plot_grafico(df_cancelamentos_periodo_1,'ano','Cancelado','YlOrBr','ano_de_pandemia','Frequências de cancelamentos por ano antes e durante as aulas híbridas (2022.1)','Valores em percentual',20)"
   ]
  },
  {
   "cell_type": "code",
   "execution_count": 33,
   "metadata": {},
   "outputs": [],
   "source": [
    "df_reprovados_periodo_1 = df[['matricula','periodo','ano','nota','status','situacaoDiscente','reprovado']]\n",
    "df_reprovados_periodo_1 =df_reprovados_periodo_1.drop(df_reprovados_periodo_1[(df_reprovados_periodo_1['ano'] == 2022) & (df_reprovados_periodo_1['periodo'] == '2')].index)\n",
    "df_reprovados_periodo_1['ano'] = df_reprovados_periodo_1['ano'].replace(2022,'2022.1')\n",
    "df_reprovados_periodo_1 = df_reprovados_periodo_1.groupby('ano')['reprovado'].value_counts(normalize=True).unstack()['sim'].reset_index()\n",
    "df_reprovados_periodo_1['sim'] = df_reprovados_periodo_1['sim'] * 100\n",
    "df_reprovados_periodo_1['ano_de_pandemia'] = df_reprovados_periodo_1['ano'].apply(ano_de_pandemia)"
   ]
  },
  {
   "cell_type": "code",
   "execution_count": 34,
   "metadata": {},
   "outputs": [
    {
     "data": {
      "image/png": "[encoded data removed]",
      "text/plain": [
       "<Figure size 1500x600 with 1 Axes>"
      ]
     },
     "metadata": {},
     "output_type": "display_data"
    }
   ],
   "source": [
    "plot_grafico(df_reprovados_periodo_1,'ano','sim','YlOrBr','ano_de_pandemia','Frequências de reprovações por ano antes e durante as aulas híbridas (2022.1)','Valores em percentual',107)"
   ]
  },
  {
   "cell_type": "markdown",
   "metadata": {},
   "source": [
    "Análise: Os gráficos da questão 6 são praticamente idênticos aos da questão 5, já que ao falar do ano de 2022, estamos falando basicamente apenas do primeiro semetre, o segundo semestre não possui qualquer registro de rendimento acadêmico, todos os alunos ainda estão no status matriculados. Mesmo assim, decidi renomear a coluna de 2022 para 2022.1 (período em que as aulas voltaram no modelo híbrido). Nenhuma mudança significativa foi observada quando comparada às análises anteriores."
   ]
  },
  {
   "cell_type": "markdown",
   "metadata": {},
   "source": [
    "7. Compare a volta às aulas presencial (2022 período 2) com a volta híbrida do item anterior.\n",
    "\n"
   ]
  },
  {
   "cell_type": "code",
   "execution_count": 36,
   "metadata": {},
   "outputs": [
    {
     "data": {
      "text/html": [
       "<div>\n",
       "<style scoped>\n",
       "    .dataframe tbody tr th:only-of-type {\n",
       "        vertical-align: middle;\n",
       "    }\n",
       "\n",
       "    .dataframe tbody tr th {\n",
       "        vertical-align: top;\n",
       "    }\n",
       "\n",
       "    .dataframe thead th {\n",
       "        text-align: right;\n",
       "    }\n",
       "</style>\n",
       "<table border=\"1\" class=\"dataframe\">\n",
       "  <thead>\n",
       "    <tr style=\"text-align: right;\">\n",
       "      <th></th>\n",
       "      <th>periodo</th>\n",
       "      <th>contagem</th>\n",
       "    </tr>\n",
       "  </thead>\n",
       "  <tbody>\n",
       "    <tr>\n",
       "      <th>0</th>\n",
       "      <td>1</td>\n",
       "      <td>94</td>\n",
       "    </tr>\n",
       "    <tr>\n",
       "      <th>1</th>\n",
       "      <td>2</td>\n",
       "      <td>27</td>\n",
       "    </tr>\n",
       "  </tbody>\n",
       "</table>\n",
       "</div>"
      ],
      "text/plain": [
       "  periodo  contagem\n",
       "0       1        94\n",
       "1       2        27"
      ]
     },
     "execution_count": 36,
     "metadata": {},
     "output_type": "execute_result"
    }
   ],
   "source": [
    "#Contagem de alunos matriculados em cada semestre de 2022\n",
    "analise_2022 = df[['matricula','periodo','ano','nota','status','situacaoDiscente','reprovado']]\n",
    "analise_2022 = analise_2022[analise_2022['ano'] == 2022]\n",
    "analise_matriculados_2022 = analise_2022.groupby('periodo').size().reset_index(name='contagem')\n",
    "analise_matriculados_2022\n"
   ]
  },
  {
   "cell_type": "markdown",
   "metadata": {},
   "source": [
    "Análise: O dataset em questão não possui muitos registros referentes ao segundo semestre de 2022, todos os alunos nesse período estão com o status Matriculado, sendo essa a única possibilidade de comparação com o período anterior. Foi observado uma queda percentual de 71% no número de matriculados entre o primeiro semestre de 2022 e o segundo semestre de 2022. Ademais, não é possível fazer qualquer outra comparação referente à rendimento acadêmico."
   ]
  }
 ],
 "metadata": {
  "kernelspec": {
   "display_name": "Python 3",
   "language": "python",
   "name": "python3"
  },
  "language_info": {
   "codemirror_mode": {
    "name": "ipython",
    "version": 3
   },
   "file_extension": ".py",
   "mimetype": "text/x-python",
   "name": "python",
   "nbconvert_exporter": "python",
   "pygments_lexer": "ipython3",
   "version": "3.11.2"
  }
 },
 "nbformat": 4,
 "nbformat_minor": 2
}
