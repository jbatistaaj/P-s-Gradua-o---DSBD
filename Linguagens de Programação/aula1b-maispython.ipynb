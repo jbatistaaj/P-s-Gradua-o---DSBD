{
 "cells": [
  {
   "cell_type": "markdown",
   "metadata": {},
   "source": [
    "Exercícios"
   ]
  },
  {
   "cell_type": "markdown",
   "metadata": {},
   "source": [
    "1. Refaça o exercício da fórmula de Bhaskara da seguinte forma:\n",
    "a. Com quatro raízes de saída (x1_0 e x2_0, com o resultado real, e x1_1 e x2_1 com\n",
    "resultado arredondado para baixo);\n",
    "b. Use funções do módulo math, sempre que possível;\n",
    "c. Calcule o erro resultante do arredondamento."
   ]
  },
  {
   "cell_type": "code",
   "execution_count": 1,
   "metadata": {},
   "outputs": [],
   "source": [
    "import math"
   ]
  },
  {
   "cell_type": "code",
   "execution_count": 10,
   "metadata": {},
   "outputs": [
    {
     "name": "stdout",
     "output_type": "stream",
     "text": [
      "O input de a é: 2.0 , o input de b é: 4.0 , e o input de c é: 1.0\n",
      "O valor de x1_0 é: -0.2928932188134524 , e o valor de x2_0 é: -1.7071067811865475\n",
      "O valor de x1_1 é: -1 , e o valor de x2_1 é: -2\n"
     ]
    }
   ],
   "source": [
    "# Questão a\n",
    "\n",
    "def calculo_bhaskara():\n",
    "\n",
    "    a = float(input(\"Digite o valor de a:\"))\n",
    "    b = float(input(\"Digite o valor de b:\"))\n",
    "    c = float(input(\"Digite o valor de c:\")) \n",
    "\n",
    "    delta = math.pow(b,2) - (4*a*c)\n",
    "\n",
    "    x1 = (-b + math.sqrt(delta)) / (2*a)\n",
    "    x2 = (-b - math.sqrt(delta)) / (2*a)\n",
    "\n",
    "    if x1 == 0 or x2 == 0:  \n",
    "        x1 == x2\n",
    "        print(\"O valor de x1 é:\", x1)\n",
    "        print(\"O valor de x2 é:\", x2)\n",
    "    else:\n",
    "        print(\"O input de a é:\",a, \", o input de b é:\",b, \", e o input de c é:\", c)\n",
    "        print(\"O valor de x1_0 é:\", x1, \", e o valor de x2_0 é:\", x2)\n",
    "        print(\"O valor de x1_1 é:\", math.floor(x1), \", e o valor de x2_1 é:\", math.floor(x2))\n",
    "\n",
    "calculo_bhaskara()"
   ]
  },
  {
   "cell_type": "code",
   "execution_count": 12,
   "metadata": {},
   "outputs": [
    {
     "name": "stdout",
     "output_type": "stream",
     "text": [
      "O valor do erro 1 é: 0.7071067811865476\n",
      "O valor do erro 2 é: 0.29289321881345254\n"
     ]
    }
   ],
   "source": [
    "# Questão c\n",
    "\n",
    "def calculo_erro():\n",
    "\n",
    "    a = float(input(\"Digite o valor de a:\"))\n",
    "    b = float(input(\"Digite o valor de b:\"))\n",
    "    c = float(input(\"Digite o valor de c:\")) \n",
    "\n",
    "    delta = math.pow(b,2) - (4*a*c)\n",
    "\n",
    "    x1_0 = (-b + math.sqrt(delta)) / (2*a)\n",
    "    x2_0 = (-b - math.sqrt(delta)) / (2*a)\n",
    "    x1_1 = math.floor(x1_0)\n",
    "    x2_1 =  math.floor(x2_0)\n",
    "\n",
    "    erro_1 = x1_0 - x1_1\n",
    "    erro_2 = x2_0 - x2_1\n",
    "\n",
    "    print(\"O valor do erro 1 é:\", erro_1)\n",
    "    print(\"O valor do erro 2 é:\", erro_2)\n",
    "\n",
    "calculo_erro()"
   ]
  },
  {
   "cell_type": "markdown",
   "metadata": {},
   "source": [
    "2. Escreva uma instrução que calcule a raiz cúbica de uma variável “x”"
   ]
  },
  {
   "cell_type": "code",
   "execution_count": 16,
   "metadata": {},
   "outputs": [
    {
     "name": "stdout",
     "output_type": "stream",
     "text": [
      "A raíz cúbica de 27.0 é 3.0\n"
     ]
    }
   ],
   "source": [
    "def raiz_cubica():\n",
    "\n",
    "    x = float(input(\"Qual é o valor de x?\"))\n",
    "\n",
    "    resultado = math.cbrt(x)\n",
    "\n",
    "    print(\"A raíz cúbica de\", x, \"é\", resultado)\n",
    "\n",
    "raiz_cubica()"
   ]
  },
  {
   "cell_type": "markdown",
   "metadata": {},
   "source": [
    "3. Qual o resultado da expressão “23+7*50”?\n",
    "a. Como obter o resultado 1500 da expressão acima? Escreva essa instrução em\n",
    "Python."
   ]
  },
  {
   "cell_type": "code",
   "execution_count": 22,
   "metadata": {},
   "outputs": [
    {
     "name": "stdout",
     "output_type": "stream",
     "text": [
      "373\n",
      "1500\n"
     ]
    }
   ],
   "source": [
    "resultado_1 = 23 + (7*50)\n",
    "resultado_2 = (23+7)*50\n",
    "\n",
    "print(resultado_1)\n",
    "print(resultado_2)\n"
   ]
  },
  {
   "cell_type": "markdown",
   "metadata": {},
   "source": [
    "4. Como saber se um número é par ou ímpar? Escreva uma instrução que resolva esse\n",
    "problema."
   ]
  },
  {
   "cell_type": "code",
   "execution_count": 26,
   "metadata": {},
   "outputs": [
    {
     "name": "stdout",
     "output_type": "stream",
     "text": [
      "O número 7.0 é ímpar!\n"
     ]
    }
   ],
   "source": [
    "def par_ou_impar():\n",
    "    \n",
    "    numero = float(input(\"Digite o número:\"))\n",
    "\n",
    "    if numero%2 == 0:\n",
    "        print(\"O número\", numero, \"é par!\")\n",
    "    else:\n",
    "        print(\"O número\", numero, \"é ímpar!\")\n",
    "\n",
    "par_ou_impar()"
   ]
  },
  {
   "cell_type": "markdown",
   "metadata": {},
   "source": [
    "5. Escreva uma instrução que calcule a área de um círculo (use função pow())"
   ]
  },
  {
   "cell_type": "code",
   "execution_count": 30,
   "metadata": {},
   "outputs": [
    {
     "name": "stdout",
     "output_type": "stream",
     "text": [
      "A área do círculo é: 78.54\n"
     ]
    }
   ],
   "source": [
    "def area_circulo():\n",
    "\n",
    "    raio = float(input(\"Qual é o raio do círculo?\"))\n",
    "\n",
    "    area = math.pi * math.pow(raio,2)\n",
    "\n",
    "    print(\"A área do círculo é:\", round(area,2))\n",
    "\n",
    "area_circulo()"
   ]
  }
 ],
 "metadata": {
  "kernelspec": {
   "display_name": "Python 3",
   "language": "python",
   "name": "python3"
  },
  "language_info": {
   "codemirror_mode": {
    "name": "ipython",
    "version": 3
   },
   "file_extension": ".py",
   "mimetype": "text/x-python",
   "name": "python",
   "nbconvert_exporter": "python",
   "pygments_lexer": "ipython3",
   "version": "3.11.2"
  }
 },
 "nbformat": 4,
 "nbformat_minor": 2
}
